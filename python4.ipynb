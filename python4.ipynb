{
 "cells": [
  {
   "cell_type": "code",
   "execution_count": 1,
   "metadata": {},
   "outputs": [
    {
     "name": "stdout",
     "output_type": "stream",
     "text": [
      "['Monday', 'Tuesday', 'Wednesday', 'Thursday', 'Friday'] <class 'list'>\n"
     ]
    }
   ],
   "source": [
    "x = ['Monday','Tuesday','Wednesday','Thursday', 'Friday']\n",
    "print(x,type(x))"
   ]
  },
  {
   "cell_type": "code",
   "execution_count": 2,
   "metadata": {},
   "outputs": [
    {
     "name": "stdout",
     "output_type": "stream",
     "text": [
      "[2, 3, 4, 5, 6, 7] <class 'list'>\n"
     ]
    }
   ],
   "source": [
    "x = [2,3,4,5,6,7]\n",
    "print(x,type(x))"
   ]
  },
  {
   "cell_type": "code",
   "execution_count": 3,
   "metadata": {},
   "outputs": [
    {
     "name": "stdout",
     "output_type": "stream",
     "text": [
      "[0, 1, 2, 3, 4, 5, 6, 7, 8, 9] <class 'list'>\n"
     ]
    }
   ],
   "source": [
    "x = list(range(10))\n",
    "print(x,type(x))"
   ]
  },
  {
   "cell_type": "code",
   "execution_count": 4,
   "metadata": {},
   "outputs": [
    {
     "name": "stdout",
     "output_type": "stream",
     "text": [
      "[1, 3, 5, 7, 9] <class 'list'>\n"
     ]
    }
   ],
   "source": [
    "x = list(range(1, 11, 2))\n",
    "print(x, type(x))"
   ]
  },
  {
   "cell_type": "code",
   "execution_count": 5,
   "metadata": {},
   "outputs": [
    {
     "name": "stdout",
     "output_type": "stream",
     "text": [
      "[10, 8, 6, 4, 2] <class 'list'>\n"
     ]
    }
   ],
   "source": [
    "x = list(range(10, 1, -2))\n",
    "print(x, type(x))"
   ]
  },
  {
   "cell_type": "code",
   "execution_count": 6,
   "metadata": {},
   "outputs": [
    {
     "name": "stdout",
     "output_type": "stream",
     "text": [
      "[0, 0, 0, 0, 0] <class 'list'>\n"
     ]
    }
   ],
   "source": [
    "x= [0] * 5\n",
    "print(x,type(x))"
   ]
  },
  {
   "cell_type": "code",
   "execution_count": 7,
   "metadata": {},
   "outputs": [
    {
     "name": "stdout",
     "output_type": "stream",
     "text": [
      "[0, 0, 0, 0, 0] <class 'list'>\n",
      "[0, 1, 2, 3, 4, 5, 6, 7, 8, 9] <class 'list'>\n",
      "[1, 3, 5, 7, 9] <class 'list'>\n",
      "[10, 8, 6, 4, 2] <class 'list'>\n",
      "[1, 4, 9, 16, 25, 36, 49, 64, 81] <class 'list'>\n",
      "[3, 9, 15, 21, 27, 33, 39, 45, 51, 57, 63, 69, 75, 81, 87, 93, 99] <class 'list'>\n"
     ]
    }
   ],
   "source": [
    "x = [0 for i in range(5)]\n",
    "print(x, type(x))\n",
    "\n",
    "x = [i for i in range(10)]\n",
    "print(x, type(x))\n",
    "\n",
    "x = [i for i in range(1, 10, 2)]\n",
    "print(x, type(x))\n",
    "\n",
    "x = [i for i in range(10, 1, -2)]\n",
    "print(x, type(x))\n",
    "\n",
    "x = [i ** 2 for i in range(1, 10)]\n",
    "print(x, type(x))\n",
    "\n",
    "x = [i for i in range(100) if (i % 2) != 0 and (i % 3) == 0]\n",
    "print(x, type(x))"
   ]
  },
  {
   "cell_type": "code",
   "execution_count": 8,
   "metadata": {},
   "outputs": [
    {
     "name": "stdout",
     "output_type": "stream",
     "text": [
      "[[1, 2, 3], [4, 5, 6], [7, 8, 9], [0, 0, 0]]\n"
     ]
    }
   ],
   "source": [
    "x = [[1,2,3],[4,5,6],[7,8,9],[0,0,0]]\n",
    "print(x)"
   ]
  },
  {
   "cell_type": "code",
   "execution_count": 9,
   "metadata": {},
   "outputs": [
    {
     "name": "stdout",
     "output_type": "stream",
     "text": [
      "[1, 2, 3] <class 'list'>\n",
      "[4, 5, 6] <class 'list'>\n",
      "[7, 8, 9] <class 'list'>\n",
      "[0, 0, 0] <class 'list'>\n"
     ]
    }
   ],
   "source": [
    "for i in x:\n",
    "    print(i,type(i))"
   ]
  },
  {
   "cell_type": "code",
   "execution_count": 10,
   "metadata": {},
   "outputs": [
    {
     "name": "stdout",
     "output_type": "stream",
     "text": [
      "[[0, 0, 0], [0, 0, 0], [0, 0, 0], [0, 0, 0]] <class 'list'>\n",
      "[[1, 0, 0], [0, 0, 0], [0, 0, 0], [0, 0, 0]] <class 'list'>\n",
      "[[0, 0, 0], [0, 0, 0], [0, 0, 0], [0, 0, 0]] <class 'list'>\n",
      "[[0, 0, 0], [0, 1, 0], [0, 0, 0], [0, 0, 0]] <class 'list'>\n"
     ]
    }
   ],
   "source": [
    "x = [[0 for col in range(3)] for row in range(4)]\n",
    "print(x, type(x))\n",
    "x[0][0] = 1\n",
    "print(x, type(x))\n",
    "x = [[0] * 3 for row in range(4)]\n",
    "print(x, type(x))\n",
    "x[1][1] = 1\n",
    "print(x, type(x))"
   ]
  },
  {
   "cell_type": "code",
   "execution_count": 11,
   "metadata": {},
   "outputs": [
    {
     "name": "stdout",
     "output_type": "stream",
     "text": [
      "[[0, 0, 0], [0, 0, 0], [0, 0, 0], [0, 0, 0]] <class 'list'>\n"
     ]
    }
   ],
   "source": [
    "x = [[0] * 3] * 4\n",
    "print(x,type(x))"
   ]
  },
  {
   "cell_type": "code",
   "execution_count": 12,
   "metadata": {},
   "outputs": [
    {
     "name": "stdout",
     "output_type": "stream",
     "text": [
      "[[1, 0, 0], [1, 0, 0], [1, 0, 0], [1, 0, 0]] <class 'list'>\n"
     ]
    }
   ],
   "source": [
    "x[0][0] = 1\n",
    "print(x,type(x))"
   ]
  },
  {
   "cell_type": "code",
   "execution_count": 13,
   "metadata": {},
   "outputs": [
    {
     "name": "stdout",
     "output_type": "stream",
     "text": [
      "[[0, 0, 0], [0, 0, 0], [0, 0, 0], [0, 0, 0]] <class 'list'>\n"
     ]
    }
   ],
   "source": [
    "a = [0] * 3\n",
    "x = [a] * 4\n",
    "print(x,type(x))"
   ]
  },
  {
   "cell_type": "code",
   "execution_count": 14,
   "metadata": {},
   "outputs": [
    {
     "name": "stdout",
     "output_type": "stream",
     "text": [
      "[[1, 0, 0], [1, 0, 0], [1, 0, 0], [1, 0, 0]] <class 'list'>\n"
     ]
    }
   ],
   "source": [
    "x[0][0] = 1\n",
    "print(x,type(x))"
   ]
  },
  {
   "cell_type": "code",
   "execution_count": 15,
   "metadata": {},
   "outputs": [
    {
     "name": "stdout",
     "output_type": "stream",
     "text": [
      "[1, 'lsgo', 3.14, [1, 2, 3]] <class 'list'>\n"
     ]
    }
   ],
   "source": [
    "mix = [1,'lsgo',3.14,[1,2,3]]\n",
    "print(mix,type(mix))"
   ]
  },
  {
   "cell_type": "code",
   "execution_count": 17,
   "metadata": {},
   "outputs": [
    {
     "name": "stdout",
     "output_type": "stream",
     "text": [
      "[] <class 'list'>\n"
     ]
    }
   ],
   "source": [
    "empty = []\n",
    "print(empty,type(empty))"
   ]
  },
  {
   "cell_type": "code",
   "execution_count": 18,
   "metadata": {},
   "outputs": [
    {
     "name": "stdout",
     "output_type": "stream",
     "text": [
      "['Monday', 'Tuesday', 'Wednesday', 'Thursday', 'Friday', 'Thursday']\n"
     ]
    }
   ],
   "source": [
    "x = ['Monday', 'Tuesday', 'Wednesday', 'Thursday', 'Friday']\n",
    "x.append('Thursday')\n",
    "print(x)"
   ]
  },
  {
   "cell_type": "code",
   "execution_count": 19,
   "metadata": {},
   "outputs": [
    {
     "name": "stdout",
     "output_type": "stream",
     "text": [
      "['Monday', 'Tuesday', 'Wednesday', 'Thursday', 'Friday', ['Thursday', 'Sunday']]\n"
     ]
    }
   ],
   "source": [
    "x = ['Monday', 'Tuesday', 'Wednesday', 'Thursday', 'Friday']\n",
    "x.append(['Thursday', 'Sunday'])\n",
    "print(x)  "
   ]
  },
  {
   "cell_type": "code",
   "execution_count": 20,
   "metadata": {},
   "outputs": [
    {
     "name": "stdout",
     "output_type": "stream",
     "text": [
      "['Monday', 'Tuesday', 'Wednesday', 'Thursday', 'Friday', 'a', 'b']\n"
     ]
    }
   ],
   "source": [
    "x = ['Monday', 'Tuesday', 'Wednesday', 'Thursday', 'Friday']\n",
    "x.extend(['a','b'])\n",
    "print(x)"
   ]
  },
  {
   "cell_type": "code",
   "execution_count": 21,
   "metadata": {},
   "outputs": [
    {
     "name": "stdout",
     "output_type": "stream",
     "text": [
      "['Monday', 'Tuesday', 'Sunday', 'Wednesday', 'Thursday', 'Friday']\n"
     ]
    }
   ],
   "source": [
    "x = ['Monday', 'Tuesday', 'Wednesday', 'Thursday', 'Friday']\n",
    "x.insert(2,'Sunday')\n",
    "print (x)"
   ]
  },
  {
   "cell_type": "code",
   "execution_count": 22,
   "metadata": {},
   "outputs": [
    {
     "name": "stdout",
     "output_type": "stream",
     "text": [
      "['Tuesday', 'Wednesday', 'Thursday', 'Friday']\n"
     ]
    }
   ],
   "source": [
    "x = ['Monday', 'Tuesday', 'Wednesday', 'Thursday', 'Friday']\n",
    "x.remove('Monday')\n",
    "print(x)"
   ]
  },
  {
   "cell_type": "code",
   "execution_count": 24,
   "metadata": {},
   "outputs": [
    {
     "name": "stdout",
     "output_type": "stream",
     "text": [
      "Friday\n"
     ]
    },
    {
     "data": {
      "text/plain": [
       "['Monday', 'Tuesday', 'Wednesday', 'Thursday']"
      ]
     },
     "execution_count": 24,
     "metadata": {},
     "output_type": "execute_result"
    }
   ],
   "source": [
    "x = ['Monday', 'Tuesday', 'Wednesday', 'Thursday', 'Friday']\n",
    "y = x.pop()\n",
    "print(y)\n",
    "x"
   ]
  },
  {
   "cell_type": "code",
   "execution_count": 25,
   "metadata": {},
   "outputs": [
    {
     "name": "stdout",
     "output_type": "stream",
     "text": [
      "Monday\n"
     ]
    }
   ],
   "source": [
    "y = x.pop(0)\n",
    "print(y)"
   ]
  },
  {
   "cell_type": "code",
   "execution_count": 26,
   "metadata": {},
   "outputs": [
    {
     "name": "stdout",
     "output_type": "stream",
     "text": [
      "Wednesday\n",
      "['Tuesday', 'Thursday']\n"
     ]
    }
   ],
   "source": [
    "y = x.pop(-2)\n",
    "print(y)  \n",
    "print(x)"
   ]
  },
  {
   "cell_type": "code",
   "execution_count": 27,
   "metadata": {},
   "outputs": [
    {
     "data": {
      "text/plain": [
       "['Wednesday', 'Thursday', 'Friday']"
      ]
     },
     "execution_count": 27,
     "metadata": {},
     "output_type": "execute_result"
    }
   ],
   "source": [
    "x = ['Monday', 'Tuesday', 'Wednesday', 'Thursday', 'Friday']\n",
    "del x[0:2]\n",
    "x"
   ]
  },
  {
   "cell_type": "code",
   "execution_count": 28,
   "metadata": {},
   "outputs": [
    {
     "name": "stdout",
     "output_type": "stream",
     "text": [
      "Monday <class 'str'>\n",
      "['Thursday', 'Friday'] <class 'list'>\n",
      "Wednesday <class 'str'>\n"
     ]
    }
   ],
   "source": [
    "x = ['Monday', 'Tuesday', 'Wednesday', ['Thursday', 'Friday']]\n",
    "print(x[0], type(x[0]))  # Monday <class 'str'>\n",
    "print(x[-1], type(x[-1]))  # ['Thursday', 'Friday'] <class 'list'>\n",
    "print(x[-2], type(x[-2]))"
   ]
  },
  {
   "cell_type": "code",
   "execution_count": 29,
   "metadata": {},
   "outputs": [
    {
     "name": "stdout",
     "output_type": "stream",
     "text": [
      "['Thursday', 'Friday']\n",
      "['Wednesday', 'Thursday', 'Friday']\n"
     ]
    }
   ],
   "source": [
    "x = ['Monday', 'Tuesday', 'Wednesday', 'Thursday', 'Friday']\n",
    "print(x[3:])  # ['Thursday', 'Friday']\n",
    "print(x[-3:])"
   ]
  },
  {
   "cell_type": "code",
   "execution_count": 30,
   "metadata": {},
   "outputs": [
    {
     "name": "stdout",
     "output_type": "stream",
     "text": [
      "['Monday', 'Tuesday', 'Wednesday']\n",
      "['Monday', 'Tuesday']\n"
     ]
    }
   ],
   "source": [
    "week = ['Monday', 'Tuesday', 'Wednesday', 'Thursday', 'Friday']\n",
    "print(week[:3])  # ['Monday', 'Tuesday', 'Wednesday']\n",
    "print(week[:-3])"
   ]
  },
  {
   "cell_type": "code",
   "execution_count": 31,
   "metadata": {},
   "outputs": [
    {
     "name": "stdout",
     "output_type": "stream",
     "text": [
      "['Tuesday', 'Wednesday']\n",
      "['Wednesday', 'Thursday']\n"
     ]
    }
   ],
   "source": [
    "week = ['Monday', 'Tuesday', 'Wednesday', 'Thursday', 'Friday']\n",
    "print(week[1:3])  # ['Tuesday', 'Wednesday']\n",
    "print(week[-3:-1]) "
   ]
  },
  {
   "cell_type": "code",
   "execution_count": 32,
   "metadata": {},
   "outputs": [
    {
     "name": "stdout",
     "output_type": "stream",
     "text": [
      "['Tuesday', 'Thursday']\n",
      "['Monday', 'Wednesday']\n",
      "['Tuesday', 'Thursday']\n",
      "['Friday', 'Thursday', 'Wednesday', 'Tuesday', 'Monday']\n"
     ]
    }
   ],
   "source": [
    "\n",
    "week = ['Monday', 'Tuesday', 'Wednesday', 'Thursday', 'Friday']\n",
    "print(week[1:4:2])  # ['Tuesday', 'Thursday']\n",
    "print(week[:4:2])  # ['Monday', 'Wednesday']\n",
    "print(week[1::2])  # ['Tuesday', 'Thursday']\n",
    "print(week[::-1])"
   ]
  },
  {
   "cell_type": "code",
   "execution_count": 33,
   "metadata": {},
   "outputs": [
    {
     "name": "stdout",
     "output_type": "stream",
     "text": [
      "['Monday', 'Tuesday', 'Wednesday', 'Thursday', 'Friday']\n"
     ]
    }
   ],
   "source": [
    "week = ['Monday', 'Tuesday', 'Wednesday', 'Thursday', 'Friday']\n",
    "print(week[:]) \n"
   ]
  },
  {
   "cell_type": "code",
   "execution_count": 34,
   "metadata": {},
   "outputs": [
    {
     "name": "stdout",
     "output_type": "stream",
     "text": [
      "[123, 456, 789, 213]\n",
      "[123, 456, 789, 213]\n",
      "[123, 213, 456, 789]\n",
      "[123, 456, 789, 213]\n",
      "[[123, 456], [789, 213]]\n",
      "[[123, 456], [789, 213]]\n"
     ]
    }
   ],
   "source": [
    "list1 = [123, 456, 789, 213]\n",
    "list2 = list1\n",
    "list3 = list1[:]\n",
    "\n",
    "print(list2)  # [123, 456, 789, 213]\n",
    "print(list3)  # [123, 456, 789, 213]\n",
    "list1.sort()\n",
    "print(list2)  # [123, 213, 456, 789] \n",
    "print(list3)  # [123, 456, 789, 213]\n",
    "\n",
    "list1 = [[123, 456], [789, 213]]\n",
    "list2 = list1\n",
    "list3 = list1[:]\n",
    "print(list2)  # [[123, 456], [789, 213]]\n",
    "print(list3)  # [[123, 456], [789, 213]]\n",
    "list1[0][0] = 111"
   ]
  },
  {
   "cell_type": "code",
   "execution_count": 39,
   "metadata": {},
   "outputs": [],
   "source": [
    "lst=[2, 5, 6, 7, 8, 9, 2, 9, 9]\n",
    "lst.append(15)  #在列表的末尾增加元素15\n",
    "lst.insert(round(len(lst)/2),20) #在列表的中间位置插入元素20\n",
    "lst1 = [2, 5, 6]\n",
    "lst += lst1    #将列表[2, 5, 6]合并到lst中\n",
    "lst.pop(3)     #移除列表中索引为3的元素\n",
    "lst.reverse()  #翻转列表里的所有元素\n",
    "lst.sort()     #从小到大排序\n",
    "lst.sort(reverse=True)   #从大到小排序\n",
    "\n"
   ]
  },
  {
   "cell_type": "code",
   "execution_count": null,
   "metadata": {},
   "outputs": [],
   "source": [
    " lst[0] =lst[0] *2\n",
    " lst[1][0] = lst[1][0]*2\n",
    " lst[1][1] = lst[1][1]*2\n",
    " lst[2] = lst[2] * 2\n"
   ]
  },
  {
   "cell_type": "code",
   "execution_count": null,
   "metadata": {},
   "outputs": [],
   "source": [
    "class Solution:\n",
    "    def peakIndexInMountainArray(self, A: List[int]) -> int:\n",
    "       \n",
    "    # your code here\n"
   ]
  },
  {
   "cell_type": "markdown",
   "metadata": {},
   "source": [
    "### 元组"
   ]
  },
  {
   "cell_type": "markdown",
   "metadata": {},
   "source": [
    "创建和访问一个元组"
   ]
  },
  {
   "cell_type": "code",
   "execution_count": 40,
   "metadata": {},
   "outputs": [
    {
     "name": "stdout",
     "output_type": "stream",
     "text": [
      "(1, 10.31, 'python') <class 'tuple'>\n",
      "(1, 10.31, 'python') <class 'tuple'>\n",
      "2\n",
      "(6, 7, 8)\n",
      "(1, 2, 3, 4, 5)\n",
      "(1, 2, 3, 4, 5, 6, 7, 8)\n"
     ]
    }
   ],
   "source": [
    "t1 = (1, 10.31, 'python')\n",
    "t2 = 1, 10.31, 'python'\n",
    "print(t1, type(t1))\n",
    "print(t2, type(t2))\n",
    "tuple1 = (1, 2, 3, 4, 5, 6, 7, 8)\n",
    "print(tuple1[1])  \n",
    "print(tuple1[5:])  \n",
    "print(tuple1[:5])  \n",
    "tuple2 = tuple1[:]\n",
    "print(tuple2)\n",
    "\n",
    "\n",
    "\n"
   ]
  },
  {
   "cell_type": "code",
   "execution_count": 41,
   "metadata": {},
   "outputs": [
    {
     "name": "stdout",
     "output_type": "stream",
     "text": [
      "<class 'int'>\n",
      "<class 'tuple'>\n",
      "<class 'list'>\n"
     ]
    }
   ],
   "source": [
    "x = (1)\n",
    "print(type(x))\n",
    "x = 2, 3, 4, 5\n",
    "print(type(x)) \n",
    "x = []\n",
    "print(type(x))"
   ]
  },
  {
   "cell_type": "code",
   "execution_count": 42,
   "metadata": {},
   "outputs": [
    {
     "name": "stdout",
     "output_type": "stream",
     "text": [
      "64\n",
      "(8, 8, 8, 8, 8, 8, 8, 8)\n"
     ]
    }
   ],
   "source": [
    "print(8 * (8))  \n",
    "print(8 * (8,)) "
   ]
  },
  {
   "cell_type": "code",
   "execution_count": 43,
   "metadata": {},
   "outputs": [
    {
     "name": "stdout",
     "output_type": "stream",
     "text": [
      "((1, 10.31, 'python'), ('data', 11))\n",
      "(1, 10.31, 'python')\n",
      "1 10.31 python\n",
      "(1, 10.31)\n"
     ]
    }
   ],
   "source": [
    "x = (1, 10.31, 'python'), ('data', 11)\n",
    "print(x)\n",
    "\n",
    "\n",
    "print(x[0])\n",
    "# (1, 10.31, 'python')\n",
    "print(x[0][0], x[0][1], x[0][2])\n",
    "# 1 10.31 python\n",
    "\n",
    "print(x[0][0:2])\n",
    "# (1, 10.31)"
   ]
  },
  {
   "cell_type": "code",
   "execution_count": 44,
   "metadata": {},
   "outputs": [
    {
     "name": "stdout",
     "output_type": "stream",
     "text": [
      "(1, 2, 3, [4, 5, 6])\n",
      "(1, 2, 3, [9, 5, 6])\n"
     ]
    }
   ],
   "source": [
    "t1 = (1, 2, 3, [4, 5, 6])\n",
    "print(t1)  # (1, 2, 3, [4, 5, 6])\n",
    "\n",
    "t1[3][0] = 9\n",
    "print(t1)"
   ]
  },
  {
   "cell_type": "code",
   "execution_count": 45,
   "metadata": {},
   "outputs": [
    {
     "name": "stdout",
     "output_type": "stream",
     "text": [
      "False\n",
      "True\n",
      "(123, 456, 456, 123)\n",
      "(123, 456, 123, 456, 123, 456)\n",
      "(123, 456, 123, 456, 123, 456)\n",
      "True\n",
      "False\n"
     ]
    }
   ],
   "source": [
    "t1 = (123, 456)\n",
    "t2 = (456, 123)\n",
    "t3 = (123, 456)\n",
    "\n",
    "print(t1 == t2)  # False\n",
    "print(t1 == t3)  # True\n",
    "\n",
    "t4 = t1 + t2\n",
    "print(t4)  # (123, 456, 456, 123)\n",
    "\n",
    "t5 = t3 * 3\n",
    "print(t5)  # (123, 456, 123, 456, 123, 456)\n",
    "\n",
    "t3 *= 3\n",
    "print(t3)  # (123, 456, 123, 456, 123, 456)\n",
    "\n",
    "print(123 in t3)  # True\n",
    "print(456 not in t3)"
   ]
  },
  {
   "cell_type": "code",
   "execution_count": 46,
   "metadata": {},
   "outputs": [
    {
     "name": "stdout",
     "output_type": "stream",
     "text": [
      "('Monday', 'Tuesday', 'Wednesday', 'Thursday', 'Friday')\n"
     ]
    }
   ],
   "source": [
    "week = ('Monday', 'Tuesday', 'Thursday', 'Friday')\n",
    "week = week[:2] + ('Wednesday',) + week[2:]\n",
    "print(week)"
   ]
  },
  {
   "cell_type": "code",
   "execution_count": 47,
   "metadata": {},
   "outputs": [
    {
     "name": "stdout",
     "output_type": "stream",
     "text": [
      "(1, 2, 3, [4, 5, 6])\n"
     ]
    }
   ],
   "source": [
    "t1 = (1, 2, 3, [4, 5, 6])\n",
    "print(t1)  # (1, 2, 3, [4, 5, 6])\n",
    "\n",
    "t1[3][0] = 9"
   ]
  },
  {
   "cell_type": "code",
   "execution_count": 48,
   "metadata": {},
   "outputs": [
    {
     "name": "stdout",
     "output_type": "stream",
     "text": [
      "False\n",
      "True\n",
      "(123, 456, 456, 123)\n",
      "(123, 456, 123, 456, 123, 456)\n",
      "(123, 456, 123, 456, 123, 456)\n",
      "True\n",
      "False\n"
     ]
    }
   ],
   "source": [
    "t1 = (123, 456)\n",
    "t2 = (456, 123)\n",
    "t3 = (123, 456)\n",
    "\n",
    "print(t1 == t2)  # False\n",
    "print(t1 == t3)  # True\n",
    "\n",
    "t4 = t1 + t2\n",
    "print(t4)  # (123, 456, 456, 123)\n",
    "\n",
    "t5 = t3 * 3\n",
    "print(t5)  # (123, 456, 123, 456, 123, 456)\n",
    "\n",
    "t3 *= 3\n",
    "print(t3)  # (123, 456, 123, 456, 123, 456)\n",
    "\n",
    "print(123 in t3)  # True\n",
    "print(456 not in t3)  # False"
   ]
  },
  {
   "cell_type": "code",
   "execution_count": 49,
   "metadata": {},
   "outputs": [
    {
     "name": "stdout",
     "output_type": "stream",
     "text": [
      "1\n",
      "1\n"
     ]
    }
   ],
   "source": [
    "t = (1, 10.31, 'python')\n",
    "print(t.count('python'))  # 1\n",
    "print(t.index(10.31))  # 1"
   ]
  },
  {
   "cell_type": "code",
   "execution_count": 50,
   "metadata": {},
   "outputs": [
    {
     "name": "stdout",
     "output_type": "stream",
     "text": [
      "1 10.31 python\n"
     ]
    }
   ],
   "source": [
    "t = (1, 10.31, 'python')\n",
    "(a, b, c) = t\n",
    "print(a, b, c)"
   ]
  },
  {
   "cell_type": "code",
   "execution_count": 51,
   "metadata": {},
   "outputs": [
    {
     "name": "stdout",
     "output_type": "stream",
     "text": [
      "1 10.31 OK python\n"
     ]
    }
   ],
   "source": [
    "t = (1, 10.31, ('OK', 'python'))\n",
    "(a, b, (c, d)) = t\n",
    "print(a, b, c, d)"
   ]
  },
  {
   "cell_type": "code",
   "execution_count": 52,
   "metadata": {},
   "outputs": [
    {
     "name": "stdout",
     "output_type": "stream",
     "text": [
      "1 2 5\n",
      "[3, 4]\n"
     ]
    }
   ],
   "source": [
    "t = 1, 2, 3, 4, 5\n",
    "a, b, *rest, c = t\n",
    "print(a, b, c)  # 1 2 5\n",
    "print(rest)  # [3, 4]"
   ]
  },
  {
   "cell_type": "code",
   "execution_count": 53,
   "metadata": {},
   "outputs": [
    {
     "name": "stdout",
     "output_type": "stream",
     "text": [
      "1 2\n"
     ]
    }
   ],
   "source": [
    "t = 1, 2, 3, 4, 5\n",
    "a, b, *_ = t\n",
    "print(a, b)"
   ]
  },
  {
   "cell_type": "code",
   "execution_count": 55,
   "metadata": {},
   "outputs": [
    {
     "data": {
      "text/plain": [
       "(1, 2, 1, 2)"
      ]
     },
     "execution_count": 55,
     "metadata": {},
     "output_type": "execute_result"
    }
   ],
   "source": [
    "(1, 2)*2\n"
   ]
  },
  {
   "cell_type": "code",
   "execution_count": 56,
   "metadata": {},
   "outputs": [
    {
     "data": {
      "text/plain": [
       "(1, 1)"
      ]
     },
     "execution_count": 56,
     "metadata": {},
     "output_type": "execute_result"
    }
   ],
   "source": [
    "(1, )*2"
   ]
  },
  {
   "cell_type": "code",
   "execution_count": 57,
   "metadata": {},
   "outputs": [
    {
     "data": {
      "text/plain": [
       "2"
      ]
     },
     "execution_count": 57,
     "metadata": {},
     "output_type": "execute_result"
    }
   ],
   "source": [
    "(1)*2"
   ]
  },
  {
   "cell_type": "markdown",
   "metadata": {},
   "source": [
    "*表示复制拼接，将(1,2)复制后拼接，(1,)同理；(1)2表示12，()表示运算符，元组中如果有一个元素，则要在后面加上逗号。"
   ]
  },
  {
   "cell_type": "markdown",
   "metadata": {},
   "source": [
    "拆包就是将序列中的元素拆成一个一个数据的过程，如：去掉元组、列表、字典直接获取元素的过程。\n",
    "不属于，上述是以拆包的形式定义变量，给变量赋值。\n",
    "可迭代对象拆包时，怎么赋值给占位符？\n",
    "在变量的前面加上通配符*"
   ]
  },
  {
   "cell_type": "markdown",
   "metadata": {},
   "source": [
    "### 字符串"
   ]
  },
  {
   "cell_type": "code",
   "execution_count": 58,
   "metadata": {},
   "outputs": [
    {
     "name": "stdout",
     "output_type": "stream",
     "text": [
      "i love Python! <class 'str'>\n",
      "I love Python! <class 'str'>\n",
      "13\n",
      "58\n"
     ]
    }
   ],
   "source": [
    "t1 = 'i love Python!'\n",
    "print(t1, type(t1))\n",
    "# i love Python! <class 'str'>\n",
    "\n",
    "t2 = \"I love Python!\"\n",
    "print(t2, type(t2))\n",
    "# I love Python! <class 'str'>\n",
    "\n",
    "print(5 + 8)  # 13\n",
    "print('5' + '8')  # 58"
   ]
  },
  {
   "cell_type": "code",
   "execution_count": 59,
   "metadata": {},
   "outputs": [
    {
     "name": "stdout",
     "output_type": "stream",
     "text": [
      "let's go\n"
     ]
    }
   ],
   "source": [
    "print('let\\'s go')"
   ]
  },
  {
   "cell_type": "code",
   "execution_count": 62,
   "metadata": {},
   "outputs": [
    {
     "name": "stdout",
     "output_type": "stream",
     "text": [
      "let's go\n"
     ]
    }
   ],
   "source": [
    "print(\"let's go\")"
   ]
  },
  {
   "cell_type": "code",
   "execution_count": 63,
   "metadata": {},
   "outputs": [
    {
     "name": "stdout",
     "output_type": "stream",
     "text": [
      "C:\\now\n"
     ]
    }
   ],
   "source": [
    "print('C:\\\\now') "
   ]
  },
  {
   "cell_type": "code",
   "execution_count": 64,
   "metadata": {},
   "outputs": [
    {
     "name": "stdout",
     "output_type": "stream",
     "text": [
      "C:\\Program Files\\Intel\\Wifi\\Help\n"
     ]
    }
   ],
   "source": [
    "print(\"C:\\\\Program Files\\\\Intel\\\\Wifi\\\\Help\")"
   ]
  },
  {
   "cell_type": "code",
   "execution_count": 65,
   "metadata": {},
   "outputs": [
    {
     "name": "stdout",
     "output_type": "stream",
     "text": [
      "C:\\Program Files\\Intel\\Wifi\\Help\n"
     ]
    }
   ],
   "source": [
    "print(r'C:\\Program Files\\Intel\\Wifi\\Help')  "
   ]
  },
  {
   "cell_type": "code",
   "execution_count": 68,
   "metadata": {},
   "outputs": [
    {
     "name": "stdout",
     "output_type": "stream",
     "text": [
      "这是一个多行字符串的实例\n",
      "多行字符串可以使用制表符\n",
      "TAB ( \t )。\n",
      "也可以使用换行符 [ \n",
      " ]。\n",
      "\n"
     ]
    }
   ],
   "source": [
    "para_str = \"\"\"这是一个多行字符串的实例\n",
    "多行字符串可以使用制表符\n",
    "TAB ( \\t )。\n",
    "也可以使用换行符 [ \\n ]。\n",
    "\"\"\"\n",
    "print(para_str)"
   ]
  },
  {
   "cell_type": "code",
   "execution_count": 69,
   "metadata": {},
   "outputs": [],
   "source": [
    "para_str = '''这是一个多行字符串的实例\n",
    "多行字符串可以使用制表符\n",
    "TAB ( \\t )。\n",
    "也可以使用换行符 [ \\n ]。\n",
    "'''"
   ]
  },
  {
   "cell_type": "code",
   "execution_count": 70,
   "metadata": {},
   "outputs": [
    {
     "name": "stdout",
     "output_type": "stream",
     "text": [
      "这是一个多行字符串的实例\n",
      "多行字符串可以使用制表符\n",
      "TAB ( \t )。\n",
      "也可以使用换行符 [ \n",
      " ]。\n",
      "\n"
     ]
    }
   ],
   "source": [
    "print(para_str)"
   ]
  },
  {
   "cell_type": "markdown",
   "metadata": {},
   "source": [
    "字符串的切片与拼接"
   ]
  },
  {
   "cell_type": "code",
   "execution_count": 71,
   "metadata": {},
   "outputs": [
    {
     "name": "stdout",
     "output_type": "stream",
     "text": [
      "I Love\n"
     ]
    }
   ],
   "source": [
    "str1 = 'I Love LsgoGroup'\n",
    "print(str1[:6])  # I Love"
   ]
  },
  {
   "cell_type": "code",
   "execution_count": 72,
   "metadata": {},
   "outputs": [
    {
     "name": "stdout",
     "output_type": "stream",
     "text": [
      "e\n"
     ]
    }
   ],
   "source": [
    "print(str1[5])"
   ]
  },
  {
   "cell_type": "code",
   "execution_count": 73,
   "metadata": {},
   "outputs": [
    {
     "name": "stdout",
     "output_type": "stream",
     "text": [
      "I Love 插入的字符串  LsgoGroup\n"
     ]
    }
   ],
   "source": [
    "print(str1[:6] + \" 插入的字符串 \" + str1[6:]) "
   ]
  },
  {
   "cell_type": "code",
   "execution_count": 74,
   "metadata": {},
   "outputs": [
    {
     "name": "stdout",
     "output_type": "stream",
     "text": [
      "Python\n",
      "th\n",
      "yth\n",
      "t\n",
      "n\n"
     ]
    }
   ],
   "source": [
    "s = 'Python'\n",
    "print(s)  # Python\n",
    "print(s[2:4])  # th\n",
    "print(s[-5:-2])  # yth\n",
    "print(s[2])  # t\n",
    "print(s[-1])  # n"
   ]
  },
  {
   "cell_type": "markdown",
   "metadata": {},
   "source": [
    "字符串的常用内置方法\n"
   ]
  },
  {
   "cell_type": "code",
   "execution_count": 75,
   "metadata": {},
   "outputs": [
    {
     "name": "stdout",
     "output_type": "stream",
     "text": [
      "Xiaoxie\n"
     ]
    }
   ],
   "source": [
    "str2 = 'xiaoxie'\n",
    "print(str2.capitalize())"
   ]
  },
  {
   "cell_type": "code",
   "execution_count": 76,
   "metadata": {},
   "outputs": [
    {
     "name": "stdout",
     "output_type": "stream",
     "text": [
      "daxiexiaoxie\n",
      "DAXIEXIAOXIE\n",
      "daxieXIAOXIE\n"
     ]
    }
   ],
   "source": [
    "str2 = \"DAXIExiaoxie\"\n",
    "print(str2.lower())  # daxiexiaoxie\n",
    "print(str2.upper())  # DAXIEXIAOXIE\n",
    "print(str2.swapcase())  # daxieXIAOXIE"
   ]
  },
  {
   "cell_type": "code",
   "execution_count": 77,
   "metadata": {},
   "outputs": [
    {
     "name": "stdout",
     "output_type": "stream",
     "text": [
      "2\n"
     ]
    }
   ],
   "source": [
    "str2 = \"DAXIExiaoxie\"\n",
    "print(str2.count('xi'))"
   ]
  },
  {
   "cell_type": "code",
   "execution_count": 78,
   "metadata": {},
   "outputs": [
    {
     "name": "stdout",
     "output_type": "stream",
     "text": [
      "True\n",
      "False\n",
      "False\n",
      "True\n"
     ]
    }
   ],
   "source": [
    "str2 = \"DAXIExiaoxie\"\n",
    "print(str2.endswith('ie'))  # True\n",
    "print(str2.endswith('xi'))  # False\n",
    "print(str2.startswith('Da'))  # False\n",
    "print(str2.startswith('DA'))  # True"
   ]
  },
  {
   "cell_type": "code",
   "execution_count": 79,
   "metadata": {},
   "outputs": [
    {
     "name": "stdout",
     "output_type": "stream",
     "text": [
      "5\n",
      "-1\n",
      "9\n"
     ]
    }
   ],
   "source": [
    "str2 = \"DAXIExiaoxie\"\n",
    "print(str2.find('xi'))  # 5\n",
    "print(str2.find('ix'))  # -1\n",
    "print(str2.rfind('xi'))  # 9"
   ]
  },
  {
   "cell_type": "code",
   "execution_count": 80,
   "metadata": {},
   "outputs": [
    {
     "name": "stdout",
     "output_type": "stream",
     "text": [
      "True\n",
      "False\n"
     ]
    }
   ],
   "source": [
    "str3 = '12345'\n",
    "print(str3.isnumeric())  # True\n",
    "str3 += 'a'\n",
    "print(str3.isnumeric())  # False"
   ]
  },
  {
   "cell_type": "code",
   "execution_count": 83,
   "metadata": {},
   "outputs": [
    {
     "name": "stdout",
     "output_type": "stream",
     "text": [
      "11010000\n"
     ]
    }
   ],
   "source": [
    "str4 = '1101'\n",
    "print(str4.ljust(8, '0'))"
   ]
  },
  {
   "cell_type": "code",
   "execution_count": 84,
   "metadata": {},
   "outputs": [
    {
     "name": "stdout",
     "output_type": "stream",
     "text": [
      "00001101\n"
     ]
    }
   ],
   "source": [
    "print(str4.rjust(8, '0'))"
   ]
  },
  {
   "cell_type": "code",
   "execution_count": 85,
   "metadata": {},
   "outputs": [
    {
     "name": "stdout",
     "output_type": "stream",
     "text": [
      "I Love LsgoGroup \n"
     ]
    }
   ],
   "source": [
    "str5 = ' I Love LsgoGroup '\n",
    "print(str5.lstrip())"
   ]
  },
  {
   "cell_type": "code",
   "execution_count": 86,
   "metadata": {},
   "outputs": [
    {
     "name": "stdout",
     "output_type": "stream",
     "text": [
      " Love LsgoGroup \n"
     ]
    }
   ],
   "source": [
    "print(str5.lstrip().strip('I'))"
   ]
  },
  {
   "cell_type": "markdown",
   "metadata": {},
   "source": [
    "partition(sub) 找到子字符串sub，把字符串分为一个三元组(pre_sub,sub,fol_sub)，如果字符串中不包含sub则返回('原字符串','','')。\n",
    "rpartition(sub)类似于partition()方法，不过是从右边开始查找。"
   ]
  },
  {
   "cell_type": "code",
   "execution_count": 87,
   "metadata": {},
   "outputs": [
    {
     "name": "stdout",
     "output_type": "stream",
     "text": [
      "('I L', 'o', 've LsgoGroup')\n",
      "('I Love LsgoGroup', '', '')\n",
      "('I Love LsgoGr', 'o', 'up')\n"
     ]
    }
   ],
   "source": [
    "str5 = ' I Love LsgoGroup '\n",
    "print(str5.strip().partition('o'))  # ('I L', 'o', 've LsgoGroup')\n",
    "print(str5.strip().partition('m'))  # ('I Love LsgoGroup', '', '')\n",
    "print(str5.strip().rpartition('o'))  # ('I Love LsgoGr', 'o', 'up')"
   ]
  },
  {
   "cell_type": "code",
   "execution_count": 88,
   "metadata": {},
   "outputs": [
    {
     "name": "stdout",
     "output_type": "stream",
     "text": [
      "We Love LsgoGroup\n"
     ]
    }
   ],
   "source": [
    "str5 = ' I Love LsgoGroup '\n",
    "print(str5.strip().replace('I', 'We'))"
   ]
  },
  {
   "cell_type": "code",
   "execution_count": 89,
   "metadata": {},
   "outputs": [
    {
     "name": "stdout",
     "output_type": "stream",
     "text": [
      "['I', 'Love', 'LsgoGroup']\n",
      "['I L', 've Lsg', 'Gr', 'up']\n"
     ]
    }
   ],
   "source": [
    "str5 = ' I Love LsgoGroup '\n",
    "print(str5.strip().split())\n",
    "print(str5.strip().split('o'))"
   ]
  },
  {
   "cell_type": "code",
   "execution_count": 92,
   "metadata": {},
   "outputs": [
    {
     "name": "stdout",
     "output_type": "stream",
     "text": [
      "['www.baidu.com.cn']\n"
     ]
    }
   ],
   "source": [
    "u = \"www.baidu.com.cn\"\n",
    "print(u.split())"
   ]
  },
  {
   "cell_type": "code",
   "execution_count": 93,
   "metadata": {},
   "outputs": [
    {
     "name": "stdout",
     "output_type": "stream",
     "text": [
      "['www', 'baidu.com.cn']\n"
     ]
    }
   ],
   "source": [
    "print((u.split(\".\", 1)))  "
   ]
  },
  {
   "cell_type": "code",
   "execution_count": 94,
   "metadata": {},
   "outputs": [
    {
     "name": "stdout",
     "output_type": "stream",
     "text": [
      "say\n",
      "hello\n",
      "baby\n"
     ]
    }
   ],
   "source": [
    "c = '''say\n",
    "hello\n",
    "baby'''\n",
    "\n",
    "print(c)"
   ]
  },
  {
   "cell_type": "code",
   "execution_count": 95,
   "metadata": {},
   "outputs": [
    {
     "name": "stdout",
     "output_type": "stream",
     "text": [
      "['say', 'hello', 'baby']\n"
     ]
    }
   ],
   "source": [
    "print(c.split('\\n'))  # ['say', 'hello', 'baby']"
   ]
  },
  {
   "cell_type": "code",
   "execution_count": 101,
   "metadata": {},
   "outputs": [
    {
     "name": "stdout",
     "output_type": "stream",
     "text": [
      "www.baidu.com\n"
     ]
    }
   ],
   "source": [
    "string = \"hello boy<[www.baidu.com]>byebye\"\n",
    "print(string.split('[')[1].split(']')[0])"
   ]
  },
  {
   "cell_type": "code",
   "execution_count": 102,
   "metadata": {},
   "outputs": [
    {
     "name": "stdout",
     "output_type": "stream",
     "text": [
      "['www', 'baidu', 'com']\n"
     ]
    }
   ],
   "source": [
    "print(string.split('[')[1].split(']')[0].split('.'))"
   ]
  },
  {
   "cell_type": "code",
   "execution_count": 104,
   "metadata": {},
   "outputs": [
    {
     "name": "stdout",
     "output_type": "stream",
     "text": [
      "['I ', ' Love ', ' LsgoGroup']\n",
      "['I \\n', ' Love \\n', ' LsgoGroup']\n"
     ]
    }
   ],
   "source": [
    "str6 = 'I \\n Love \\n LsgoGroup'\n",
    "print(str6.splitlines())\n",
    "print(str6.splitlines(True))"
   ]
  },
  {
   "cell_type": "code",
   "execution_count": 105,
   "metadata": {},
   "outputs": [
    {
     "name": "stdout",
     "output_type": "stream",
     "text": [
      "{97: 49, 101: 50, 105: 51, 111: 52, 117: 53}\n",
      "th3s 3s str3ng 2x1mpl2....w4w!!!\n"
     ]
    }
   ],
   "source": [
    "str7 = 'this is string example....wow!!!'\n",
    "intab = 'aeiou'\n",
    "outtab = '12345'\n",
    "trantab = str7.maketrans(intab, outtab)\n",
    "print(trantab)  \n",
    "print(str7.translate(trantab))"
   ]
  },
  {
   "cell_type": "markdown",
   "metadata": {},
   "source": [
    " 字符串格式化"
   ]
  },
  {
   "cell_type": "code",
   "execution_count": 106,
   "metadata": {},
   "outputs": [
    {
     "name": "stdout",
     "output_type": "stream",
     "text": [
      "I Love Lsgogroup\n",
      "I Love Lsgogroup\n",
      "I Love Lsgogroup\n",
      "27.66GB\n"
     ]
    }
   ],
   "source": [
    "str8 = \"{0} Love {1}\".format('I', 'Lsgogroup')  # 位置参数\n",
    "print(str8)  \n",
    "\n",
    "str8 = \"{a} Love {b}\".format(a='I', b='Lsgogroup')  # 关键字参数\n",
    "print(str8)  \n",
    "\n",
    "str8 = \"{0} Love {b}\".format('I', b='Lsgogroup')  # 位置参数要在关键字参数之前\n",
    "print(str8)  \n",
    "\n",
    "str8 = '{0:.2f}{1}'.format(27.658, 'GB')  # 保留小数点后两位\n",
    "print(str8)  "
   ]
  },
  {
   "cell_type": "markdown",
   "metadata": {},
   "source": [
    "1、字符串函数回顾\n",
    "怎么批量替换字符串中的元素？str.replace()\n",
    "怎么把字符串按照空格进⾏拆分？str.split()\n",
    "怎么去除字符串⾸位的空格？str.lstrip()"
   ]
  },
  {
   "cell_type": "markdown",
   "metadata": {},
   "source": [
    "2、实现isdigit函数\n",
    "直接用isnumeric函数就可以实现"
   ]
  },
  {
   "cell_type": "markdown",
   "metadata": {},
   "source": [
    "print(u.split())"
   ]
  },
  {
   "cell_type": "code",
   "execution_count": null,
   "metadata": {},
   "outputs": [],
   "source": [
    "    def longestPalindrome(self, s: str) -> str:\n",
    "        n = len(s)\n",
    "        result = ''\n",
    "        if n < 2:\n",
    "            return s\n",
    "        d = [[False for _ in range(n)] for _ in range(n)]\n",
    "        for i in range(0, n):\n",
    "                d[i][i] = True\n",
    "        for j in range(0, n):\n",
    "            for i in range(0, j+1):\n",
    "                if j == i:\n",
    "                    pass\n",
    "                elif j == i+1:\n",
    "                    d[i][i + 1] = (s[i] == s[i + 1])\n",
    "                else:\n",
    "                    d[i][j] = (d[i+1][j-1] and s[i] == s[j])\n",
    "                if d[i][j] and ((j-i+1) > len(result)):\n",
    "                    result = s[i:j+1]\n",
    "        return result\n"
   ]
  }
 ],
 "metadata": {
  "kernelspec": {
   "display_name": "Python 3",
   "language": "python",
   "name": "python3"
  },
  "language_info": {
   "codemirror_mode": {
    "name": "ipython",
    "version": 3
   },
   "file_extension": ".py",
   "mimetype": "text/x-python",
   "name": "python",
   "nbconvert_exporter": "python",
   "pygments_lexer": "ipython3",
   "version": "3.7.6"
  }
 },
 "nbformat": 4,
 "nbformat_minor": 4
}
